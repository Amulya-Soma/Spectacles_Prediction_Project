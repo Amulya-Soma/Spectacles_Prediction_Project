{
  "nbformat": 4,
  "nbformat_minor": 0,
  "metadata": {
    "colab": {
      "name": "Specs project_Random Forest_Finalized.ipynb",
      "provenance": [],
      "collapsed_sections": []
    },
    "kernelspec": {
      "name": "python3",
      "display_name": "Python 3"
    },
    "language_info": {
      "name": "python"
    }
  },
  "cells": [
    {
      "cell_type": "markdown",
      "metadata": {
        "id": "2SzQwtsPnsKL"
      },
      "source": [
        "Mount Drive"
      ]
    },
    {
      "cell_type": "code",
      "metadata": {
        "id": "hYMiRzw1nvvx",
        "colab": {
          "base_uri": "https://localhost:8080/"
        },
        "outputId": "719f4394-94f6-46c4-cebe-4703f9e7bb7e"
      },
      "source": [
        "from google.colab import drive\n",
        "drive.mount('/content/drive')"
      ],
      "execution_count": null,
      "outputs": [
        {
          "output_type": "stream",
          "name": "stdout",
          "text": [
            "Mounted at /content/drive\n"
          ]
        }
      ]
    },
    {
      "cell_type": "markdown",
      "metadata": {
        "id": "RkZTIjuCoCHl"
      },
      "source": [
        "Import Libraries"
      ]
    },
    {
      "cell_type": "code",
      "metadata": {
        "id": "B45fRDZCoFy-"
      },
      "source": [
        "import numpy as nm  \n",
        "import matplotlib.pyplot as mtp  \n",
        "import pandas as pd"
      ],
      "execution_count": null,
      "outputs": []
    },
    {
      "cell_type": "markdown",
      "metadata": {
        "id": "ZEkOtuSCoIGI"
      },
      "source": [
        "Load Data"
      ]
    },
    {
      "cell_type": "code",
      "metadata": {
        "colab": {
          "base_uri": "https://localhost:8080/",
          "height": 206
        },
        "id": "FqtR_I3moKmV",
        "outputId": "a44cbe5b-c1ce-4b4b-a772-af13e495bf92"
      },
      "source": [
        "data = pd.read_csv(\"/content/drive/MyDrive/AI Data/Ageremoved_dataset.csv\")\n",
        "data.head()"
      ],
      "execution_count": null,
      "outputs": [
        {
          "output_type": "execute_result",
          "data": {
            "text/html": [
              "<div>\n",
              "<style scoped>\n",
              "    .dataframe tbody tr th:only-of-type {\n",
              "        vertical-align: middle;\n",
              "    }\n",
              "\n",
              "    .dataframe tbody tr th {\n",
              "        vertical-align: top;\n",
              "    }\n",
              "\n",
              "    .dataframe thead th {\n",
              "        text-align: right;\n",
              "    }\n",
              "</style>\n",
              "<table border=\"1\" class=\"dataframe\">\n",
              "  <thead>\n",
              "    <tr style=\"text-align: right;\">\n",
              "      <th></th>\n",
              "      <th>phone</th>\n",
              "      <th>Laptop</th>\n",
              "      <th>TV</th>\n",
              "      <th>Headaches</th>\n",
              "      <th>Blurry vision</th>\n",
              "      <th>Specs</th>\n",
              "    </tr>\n",
              "  </thead>\n",
              "  <tbody>\n",
              "    <tr>\n",
              "      <th>0</th>\n",
              "      <td>6</td>\n",
              "      <td>4</td>\n",
              "      <td>1</td>\n",
              "      <td>0</td>\n",
              "      <td>0</td>\n",
              "      <td>0</td>\n",
              "    </tr>\n",
              "    <tr>\n",
              "      <th>1</th>\n",
              "      <td>9</td>\n",
              "      <td>5</td>\n",
              "      <td>1</td>\n",
              "      <td>1</td>\n",
              "      <td>1</td>\n",
              "      <td>1</td>\n",
              "    </tr>\n",
              "    <tr>\n",
              "      <th>2</th>\n",
              "      <td>6</td>\n",
              "      <td>3</td>\n",
              "      <td>1</td>\n",
              "      <td>0</td>\n",
              "      <td>0</td>\n",
              "      <td>0</td>\n",
              "    </tr>\n",
              "    <tr>\n",
              "      <th>3</th>\n",
              "      <td>10</td>\n",
              "      <td>2</td>\n",
              "      <td>0</td>\n",
              "      <td>1</td>\n",
              "      <td>1</td>\n",
              "      <td>1</td>\n",
              "    </tr>\n",
              "    <tr>\n",
              "      <th>4</th>\n",
              "      <td>10</td>\n",
              "      <td>0</td>\n",
              "      <td>4</td>\n",
              "      <td>0</td>\n",
              "      <td>0</td>\n",
              "      <td>1</td>\n",
              "    </tr>\n",
              "  </tbody>\n",
              "</table>\n",
              "</div>"
            ],
            "text/plain": [
              "   phone  Laptop  TV  Headaches  Blurry vision  Specs\n",
              "0      6       4   1          0              0      0\n",
              "1      9       5   1          1              1      1\n",
              "2      6       3   1          0              0      0\n",
              "3     10       2   0          1              1      1\n",
              "4     10       0   4          0              0      1"
            ]
          },
          "metadata": {},
          "execution_count": 3
        }
      ]
    },
    {
      "cell_type": "markdown",
      "metadata": {
        "id": "mPVd7eTMoimI"
      },
      "source": [
        "Data Split"
      ]
    },
    {
      "cell_type": "code",
      "metadata": {
        "id": "KGwLFgMAomda"
      },
      "source": [
        "#split dataset in features and target variable\n",
        "feature_cols = ['phone', 'Laptop', 'TV', 'Headaches', 'Blurry vision']\n",
        "X = data[feature_cols] \n",
        "y = data.Specs"
      ],
      "execution_count": null,
      "outputs": []
    },
    {
      "cell_type": "code",
      "metadata": {
        "id": "f_HFIN-PpI8P"
      },
      "source": [
        "# Split dataset into training set and test set\n",
        "from sklearn.model_selection import train_test_split\n",
        "X_train, X_test, y_train, y_test = train_test_split(X, y, test_size=0.3, random_state=1)"
      ],
      "execution_count": null,
      "outputs": []
    },
    {
      "cell_type": "markdown",
      "metadata": {
        "id": "X1T9jhDhpN3X"
      },
      "source": [
        "Random Forest Model Training"
      ]
    },
    {
      "cell_type": "code",
      "metadata": {
        "colab": {
          "base_uri": "https://localhost:8080/"
        },
        "id": "WsGVb7svpQM-",
        "outputId": "92e386dd-c84a-44f6-996f-105be6ab0106"
      },
      "source": [
        "#Fitting Decision Tree classifier to the training set  \n",
        "from sklearn.ensemble import RandomForestClassifier  \n",
        "classifier= RandomForestClassifier(n_estimators= 3, criterion=\"entropy\")  \n",
        "classifier.fit(X_train, y_train)  "
      ],
      "execution_count": null,
      "outputs": [
        {
          "output_type": "execute_result",
          "data": {
            "text/plain": [
              "RandomForestClassifier(criterion='entropy', n_estimators=3)"
            ]
          },
          "metadata": {},
          "execution_count": 6
        }
      ]
    },
    {
      "cell_type": "markdown",
      "metadata": {
        "id": "dKF0C7Qy8Dy1"
      },
      "source": [
        "FOR TRAINING DATA"
      ]
    },
    {
      "cell_type": "code",
      "metadata": {
        "id": "XnwN-nNG8IL2"
      },
      "source": [
        "#Predicting the test set result  \n",
        "y_pred= classifier.predict(X_train) "
      ],
      "execution_count": null,
      "outputs": []
    },
    {
      "cell_type": "code",
      "metadata": {
        "colab": {
          "base_uri": "https://localhost:8080/"
        },
        "id": "HSSe5AkX9GR6",
        "outputId": "297b3d6e-4d42-400f-8a27-f986e3ab129b"
      },
      "source": [
        "from sklearn.metrics import confusion_matrix  \n",
        "cm= confusion_matrix(y_train, y_pred)\n",
        "cm  "
      ],
      "execution_count": null,
      "outputs": [
        {
          "output_type": "execute_result",
          "data": {
            "text/plain": [
              "array([[74,  3],\n",
              "       [ 2, 95]])"
            ]
          },
          "metadata": {},
          "execution_count": 8
        }
      ]
    },
    {
      "cell_type": "code",
      "metadata": {
        "colab": {
          "base_uri": "https://localhost:8080/"
        },
        "id": "k_bvJF8i9LPp",
        "outputId": "57835a17-70b5-44e8-cc36-52d816cbfef0"
      },
      "source": [
        "from sklearn import metrics #Import scikit-learn metrics module for accuracy calculation\n",
        "print(\"Accuracy entropy training:\",metrics.accuracy_score(y_train, y_pred))"
      ],
      "execution_count": null,
      "outputs": [
        {
          "output_type": "stream",
          "name": "stdout",
          "text": [
            "Accuracy entropy training: 0.9712643678160919\n"
          ]
        }
      ]
    },
    {
      "cell_type": "markdown",
      "metadata": {
        "id": "ZauHPFiF7zJO"
      },
      "source": [
        "FOR TESTING DATA"
      ]
    },
    {
      "cell_type": "markdown",
      "metadata": {
        "id": "qQ_fSc-UpT4B"
      },
      "source": [
        "Prediction"
      ]
    },
    {
      "cell_type": "code",
      "metadata": {
        "id": "Dz5V4iw7pU_I"
      },
      "source": [
        "#Predicting the test set result  \n",
        "y_pred= classifier.predict(X_test)  "
      ],
      "execution_count": null,
      "outputs": []
    },
    {
      "cell_type": "markdown",
      "metadata": {
        "id": "aPZcvMH6pWXE"
      },
      "source": [
        "Model Metrics"
      ]
    },
    {
      "cell_type": "code",
      "metadata": {
        "colab": {
          "base_uri": "https://localhost:8080/"
        },
        "id": "YsM_tuRPpXhL",
        "outputId": "7c742df9-9173-4de7-d830-2ec846e032ce"
      },
      "source": [
        "#Creating the Confusion matrix  \n",
        "from sklearn.metrics import confusion_matrix  \n",
        "cm= confusion_matrix(y_test, y_pred)\n",
        "cm  "
      ],
      "execution_count": null,
      "outputs": [
        {
          "output_type": "execute_result",
          "data": {
            "text/plain": [
              "array([[32,  6],\n",
              "       [ 4, 33]])"
            ]
          },
          "metadata": {},
          "execution_count": 11
        }
      ]
    },
    {
      "cell_type": "code",
      "metadata": {
        "colab": {
          "base_uri": "https://localhost:8080/"
        },
        "id": "ULTXgDexpavA",
        "outputId": "07765b7f-52b9-4003-d4d7-749bd6882d52"
      },
      "source": [
        "from sklearn import metrics #Import scikit-learn metrics module for accuracy calculation\n",
        "print(\"Accuracy entropy testing:\",metrics.accuracy_score(y_test, y_pred))"
      ],
      "execution_count": null,
      "outputs": [
        {
          "output_type": "stream",
          "name": "stdout",
          "text": [
            "Accuracy entropy testing: 0.8666666666666667\n"
          ]
        }
      ]
    },
    {
      "cell_type": "markdown",
      "metadata": {
        "id": "iGMwy5Gq9CS0"
      },
      "source": [
        "Random Forest Model Training gini"
      ]
    },
    {
      "cell_type": "code",
      "metadata": {
        "colab": {
          "base_uri": "https://localhost:8080/"
        },
        "id": "go7OLSUr89wU",
        "outputId": "6c4b5b4f-8d70-4bcc-ab7c-a7489581a306"
      },
      "source": [
        "#Fitting Decision Tree classifier to the training set  \n",
        "from sklearn.ensemble import RandomForestClassifier  \n",
        "classifier= RandomForestClassifier(n_estimators= 3, criterion=\"gini\")  \n",
        "classifier.fit(X_train, y_train)  "
      ],
      "execution_count": null,
      "outputs": [
        {
          "output_type": "execute_result",
          "data": {
            "text/plain": [
              "RandomForestClassifier(n_estimators=3)"
            ]
          },
          "metadata": {},
          "execution_count": 13
        }
      ]
    },
    {
      "cell_type": "markdown",
      "metadata": {
        "id": "X83Qz8JK9j5I"
      },
      "source": [
        "Training Data Prediction gini"
      ]
    },
    {
      "cell_type": "code",
      "metadata": {
        "id": "tuBt_fJI9g7y"
      },
      "source": [
        "#Predicting the test set result  \n",
        "y_pred= classifier.predict(X_train) "
      ],
      "execution_count": null,
      "outputs": []
    },
    {
      "cell_type": "code",
      "metadata": {
        "colab": {
          "base_uri": "https://localhost:8080/"
        },
        "id": "of3hBksy9s0A",
        "outputId": "75dbc561-6b76-4128-e2be-6eb0401ed4b0"
      },
      "source": [
        "from sklearn.metrics import confusion_matrix  \n",
        "cm= confusion_matrix(y_train, y_pred)\n",
        "cm"
      ],
      "execution_count": null,
      "outputs": [
        {
          "output_type": "execute_result",
          "data": {
            "text/plain": [
              "array([[72,  5],\n",
              "       [ 2, 95]])"
            ]
          },
          "metadata": {},
          "execution_count": 15
        }
      ]
    },
    {
      "cell_type": "code",
      "metadata": {
        "colab": {
          "base_uri": "https://localhost:8080/"
        },
        "id": "i5HfvUrQ9yd9",
        "outputId": "dbae9e24-282f-41d6-c693-caddf738f14c"
      },
      "source": [
        "from sklearn import metrics #Import scikit-learn metrics module for accuracy calculation\n",
        "print(\"Accuracy gini training \",metrics.accuracy_score(y_train, y_pred))"
      ],
      "execution_count": null,
      "outputs": [
        {
          "output_type": "stream",
          "name": "stdout",
          "text": [
            "Accuracy gini training  0.9597701149425287\n"
          ]
        }
      ]
    },
    {
      "cell_type": "markdown",
      "metadata": {
        "id": "t-HNSlFY-JEx"
      },
      "source": [
        "Testing Data"
      ]
    },
    {
      "cell_type": "code",
      "metadata": {
        "id": "Tq7mw5Qj-NuB"
      },
      "source": [
        "#Predicting the test set result  \n",
        "y_pred= classifier.predict(X_test) "
      ],
      "execution_count": null,
      "outputs": []
    },
    {
      "cell_type": "code",
      "metadata": {
        "colab": {
          "base_uri": "https://localhost:8080/"
        },
        "id": "HHHl8mv0-bLP",
        "outputId": "7ff47b6f-c350-4cf7-d7b5-cdb4dbbb484f"
      },
      "source": [
        "#Creating the Confusion matrix  \n",
        "from sklearn.metrics import confusion_matrix  \n",
        "cm= confusion_matrix(y_test, y_pred)\n",
        "cm  "
      ],
      "execution_count": null,
      "outputs": [
        {
          "output_type": "execute_result",
          "data": {
            "text/plain": [
              "array([[30,  8],\n",
              "       [ 5, 32]])"
            ]
          },
          "metadata": {},
          "execution_count": 18
        }
      ]
    },
    {
      "cell_type": "code",
      "metadata": {
        "colab": {
          "base_uri": "https://localhost:8080/"
        },
        "id": "xRM5bWaG-ejk",
        "outputId": "2aeeea20-07f4-4f01-b89b-3a07cff69a2a"
      },
      "source": [
        "from sklearn import metrics #Import scikit-learn metrics module for accuracy calculation\n",
        "print(\"Accuracy gini testing\",metrics.accuracy_score(y_test, y_pred))"
      ],
      "execution_count": null,
      "outputs": [
        {
          "output_type": "stream",
          "name": "stdout",
          "text": [
            "Accuracy gini testing 0.8266666666666667\n"
          ]
        }
      ]
    },
    {
      "cell_type": "markdown",
      "metadata": {
        "id": "IjXPcvhEq8pg"
      },
      "source": [
        "Save the Model"
      ]
    },
    {
      "cell_type": "code",
      "metadata": {
        "id": "SRAs6q0FqUXK"
      },
      "source": [
        "import pickle\n",
        "# Save the model\n",
        "filename = 'random_forest_model.pkl'\n",
        "pickle.dump(classifier, open(filename, 'wb'))"
      ],
      "execution_count": null,
      "outputs": []
    },
    {
      "cell_type": "markdown",
      "metadata": {
        "id": "qD3Ug0t4Abnr"
      },
      "source": [
        "# Depth based accuracy using entropy"
      ]
    },
    {
      "cell_type": "markdown",
      "metadata": {
        "id": "WghBX9RrAfuC"
      },
      "source": [
        "Training"
      ]
    },
    {
      "cell_type": "code",
      "metadata": {
        "colab": {
          "base_uri": "https://localhost:8080/"
        },
        "id": "ILc9P9zMAayV",
        "outputId": "b3ce0169-8677-4519-d89d-b94ec57e94de"
      },
      "source": [
        "# Create Decision Tree classifer object\n",
        "classifier = RandomForestClassifier(criterion=\"entropy\", max_depth=4)\n",
        "\n",
        "# Train Decision Tree Classifer\n",
        "classifier = classifier.fit(X_train,y_train)\n",
        "\n",
        "#Predict the response for test dataset\n",
        "y_pred = classifier.predict(X_test)\n",
        "\n",
        "# Model Accuracy, how often is the classifier correct?\n",
        "print(\"Accuracy:\",metrics.accuracy_score(y_test, y_pred))"
      ],
      "execution_count": null,
      "outputs": [
        {
          "output_type": "stream",
          "name": "stdout",
          "text": [
            "Accuracy: 0.8933333333333333\n"
          ]
        }
      ]
    },
    {
      "cell_type": "markdown",
      "metadata": {
        "id": "wUcrEdcgrESL"
      },
      "source": [
        "Deployment"
      ]
    },
    {
      "cell_type": "code",
      "metadata": {
        "colab": {
          "base_uri": "https://localhost:8080/"
        },
        "id": "JpxIMYl0rFnp",
        "outputId": "c5ab381a-ec11-47c2-fba5-7fc7f834b2a0"
      },
      "source": [
        "list_of_columns = data.columns\n",
        "input_data=pd.DataFrame(columns=list_of_columns)\n",
        "input_data.drop(['Specs'], axis='columns', inplace=True)\n",
        "\n",
        "input_data.at[0, 'phone'] = float(input('phone = '))\n",
        "input_data.at[0, 'Laptop'] = float(input('Laptop = '))\n",
        "input_data.at[0, 'TV'] = float(input('TV = '))\n",
        "input_data.at[0, 'Headaches'] = int(input('Headaches (1/0) '))\n",
        "input_data.at[0, 'Blurry vision'] = int(input('Blurry vison (1/0) '))\n",
        "y_pred =  classifier.predict(input_data)\n",
        "\n",
        "if(y_pred[0]==1):\n",
        "  print('You need Specs')\n",
        "if(y_pred[0]==0):\n",
        "  print('You dont need Specs')"
      ],
      "execution_count": null,
      "outputs": [
        {
          "output_type": "stream",
          "name": "stdout",
          "text": [
            "phone = 5\n",
            "Laptop = 3\n",
            "TV = 4\n",
            "Headaches (1/0) 1\n",
            "Blurry vison (1/0) 1\n",
            "You need Specs\n"
          ]
        }
      ]
    }
  ]
}
{
  "nbformat": 4,
  "nbformat_minor": 0,
  "metadata": {
    "colab": {
      "name": "Specs project_Logistic regression_Finalized",
      "provenance": [],
      "collapsed_sections": []
    },
    "kernelspec": {
      "display_name": "Python 3",
      "name": "python3"
    },
    "language_info": {
      "name": "python"
    }
  },
  "cells": [
    {
      "cell_type": "markdown",
      "metadata": {
        "id": "s1aEY6m75rwi"
      },
      "source": [
        "# Mount Google Drive"
      ]
    },
    {
      "cell_type": "code",
      "metadata": {
        "colab": {
          "base_uri": "https://localhost:8080/"
        },
        "id": "bbpZkq3Iw065",
        "outputId": "5df3e0b9-188e-4f77-8f40-7e6d55dc823a"
      },
      "source": [
        "from google.colab import drive\n",
        "drive.mount('/content/drive')"
      ],
      "execution_count": null,
      "outputs": [
        {
          "output_type": "stream",
          "name": "stdout",
          "text": [
            "Mounted at /content/drive\n"
          ]
        }
      ]
    },
    {
      "cell_type": "markdown",
      "metadata": {
        "id": "OW_dYouU5u3K"
      },
      "source": [
        "## Import required libraries"
      ]
    },
    {
      "cell_type": "code",
      "metadata": {
        "id": "TubjuMC8xl4B"
      },
      "source": [
        "import numpy as np\n",
        "import math as mt\n",
        "import random\n",
        "import pandas as pd"
      ],
      "execution_count": null,
      "outputs": []
    },
    {
      "cell_type": "markdown",
      "metadata": {
        "id": "fBAAN4ZO5yxx"
      },
      "source": [
        "#Import Data"
      ]
    },
    {
      "cell_type": "code",
      "metadata": {
        "colab": {
          "base_uri": "https://localhost:8080/",
          "height": 206
        },
        "id": "gbqJoC8vxxC5",
        "outputId": "ff0e182b-c693-474b-cdb7-26b6d04ba7f1"
      },
      "source": [
        "data = pd.read_csv('/content/drive/MyDrive/AI Data/Ageremoved_dataset.csv')\n",
        "data.head()"
      ],
      "execution_count": null,
      "outputs": [
        {
          "output_type": "execute_result",
          "data": {
            "text/html": [
              "<div>\n",
              "<style scoped>\n",
              "    .dataframe tbody tr th:only-of-type {\n",
              "        vertical-align: middle;\n",
              "    }\n",
              "\n",
              "    .dataframe tbody tr th {\n",
              "        vertical-align: top;\n",
              "    }\n",
              "\n",
              "    .dataframe thead th {\n",
              "        text-align: right;\n",
              "    }\n",
              "</style>\n",
              "<table border=\"1\" class=\"dataframe\">\n",
              "  <thead>\n",
              "    <tr style=\"text-align: right;\">\n",
              "      <th></th>\n",
              "      <th>phone</th>\n",
              "      <th>Laptop</th>\n",
              "      <th>TV</th>\n",
              "      <th>Headaches</th>\n",
              "      <th>Blurry vision</th>\n",
              "      <th>Specs</th>\n",
              "    </tr>\n",
              "  </thead>\n",
              "  <tbody>\n",
              "    <tr>\n",
              "      <th>0</th>\n",
              "      <td>6</td>\n",
              "      <td>4</td>\n",
              "      <td>1</td>\n",
              "      <td>0</td>\n",
              "      <td>0</td>\n",
              "      <td>0</td>\n",
              "    </tr>\n",
              "    <tr>\n",
              "      <th>1</th>\n",
              "      <td>9</td>\n",
              "      <td>5</td>\n",
              "      <td>1</td>\n",
              "      <td>1</td>\n",
              "      <td>1</td>\n",
              "      <td>1</td>\n",
              "    </tr>\n",
              "    <tr>\n",
              "      <th>2</th>\n",
              "      <td>6</td>\n",
              "      <td>3</td>\n",
              "      <td>1</td>\n",
              "      <td>0</td>\n",
              "      <td>0</td>\n",
              "      <td>0</td>\n",
              "    </tr>\n",
              "    <tr>\n",
              "      <th>3</th>\n",
              "      <td>10</td>\n",
              "      <td>2</td>\n",
              "      <td>0</td>\n",
              "      <td>1</td>\n",
              "      <td>1</td>\n",
              "      <td>1</td>\n",
              "    </tr>\n",
              "    <tr>\n",
              "      <th>4</th>\n",
              "      <td>10</td>\n",
              "      <td>0</td>\n",
              "      <td>4</td>\n",
              "      <td>0</td>\n",
              "      <td>0</td>\n",
              "      <td>1</td>\n",
              "    </tr>\n",
              "  </tbody>\n",
              "</table>\n",
              "</div>"
            ],
            "text/plain": [
              "   phone  Laptop  TV  Headaches  Blurry vision  Specs\n",
              "0      6       4   1          0              0      0\n",
              "1      9       5   1          1              1      1\n",
              "2      6       3   1          0              0      0\n",
              "3     10       2   0          1              1      1\n",
              "4     10       0   4          0              0      1"
            ]
          },
          "metadata": {},
          "execution_count": 3
        }
      ]
    },
    {
      "cell_type": "markdown",
      "metadata": {
        "id": "qx7IBFds52Y5"
      },
      "source": [
        "#Outliers Detection"
      ]
    },
    {
      "cell_type": "code",
      "metadata": {
        "id": "5dwoOYnBxzxR"
      },
      "source": [
        "outliers = []\n",
        "def detect_outliers_zscore(data):\n",
        "    thres = 3\n",
        "    mean = np.mean(data)\n",
        "    std = np.std(data)\n",
        "    # print(mean, std)\n",
        "    for i in data:\n",
        "        z_score = (i-mean)/std\n",
        "        if (np.abs(z_score) > thres):\n",
        "            outliers.append(i)\n",
        "    return outliers# Driver code"
      ],
      "execution_count": null,
      "outputs": []
    },
    {
      "cell_type": "code",
      "metadata": {
        "colab": {
          "base_uri": "https://localhost:8080/"
        },
        "id": "e9_ZQL4Wx3dh",
        "outputId": "6f7d84be-2e7f-4643-e31b-f7adfc4151a6"
      },
      "source": [
        "sample_outliers_phone = detect_outliers_zscore(data['phone'])\n",
        "sample_outliers_laptop = detect_outliers_zscore(data['Laptop'])\n",
        "sample_outliers_tv = detect_outliers_zscore(data['TV'])\n",
        "sample_outliers_headaches = detect_outliers_zscore(data['Headaches'])\n",
        "sample_outliers_blurry = detect_outliers_zscore(data['Blurry vision'])\n",
        "sample_outliers_specs = detect_outliers_zscore(data['Specs'])\n",
        "\n",
        "print(\"Outliers in phone column from Z-scores method: \", sample_outliers_phone)\n",
        "print(\"Outliers in laptop column from Z-scores method: \", sample_outliers_laptop)\n",
        "print(\"Outliers in tv column from Z-scores method: \", sample_outliers_tv)\n",
        "print(\"Outliers in headaches column from Z-scores method: \", sample_outliers_headaches)\n",
        "print(\"Outliers in blurry vision column from Z-scores method: \", sample_outliers_blurry)\n",
        "print(\"Outliers in specs column from Z-scores method: \", sample_outliers_specs)"
      ],
      "execution_count": null,
      "outputs": [
        {
          "output_type": "stream",
          "name": "stdout",
          "text": [
            "Outliers in phone column from Z-scores method:  [10, 10, 10, 8, 8, 9, 8]\n",
            "Outliers in laptop column from Z-scores method:  [10, 10, 10, 8, 8, 9, 8]\n",
            "Outliers in tv column from Z-scores method:  [10, 10, 10, 8, 8, 9, 8]\n",
            "Outliers in headaches column from Z-scores method:  [10, 10, 10, 8, 8, 9, 8]\n",
            "Outliers in blurry vision column from Z-scores method:  [10, 10, 10, 8, 8, 9, 8]\n",
            "Outliers in specs column from Z-scores method:  [10, 10, 10, 8, 8, 9, 8]\n"
          ]
        }
      ]
    },
    {
      "cell_type": "markdown",
      "metadata": {
        "id": "wR3jkdDS56Gw"
      },
      "source": [
        "# Outlier Detection and Treatment"
      ]
    },
    {
      "cell_type": "code",
      "metadata": {
        "colab": {
          "base_uri": "https://localhost:8080/",
          "height": 424
        },
        "id": "r6C0w_mpybcP",
        "outputId": "50df91ed-20ab-419c-8b08-cb124725ee70"
      },
      "source": [
        "from scipy.stats import zscore\n",
        "za = np.abs(zscore(data['phone']))\n",
        "zb = np.abs(zscore(data['Laptop']))\n",
        "zc = np.abs(zscore(data['TV']))\n",
        "zd = np.abs(zscore(data['Headaches']))\n",
        "ze = np.abs(zscore(data['Blurry vision']))\n",
        "zf = np.abs(zscore(data['Specs']))\n",
        "\n",
        "data['Zscorea'] = za\n",
        "data['Zscoreb'] = zb\n",
        "data['Zscorec'] = zc\n",
        "data['Zscored'] = zd\n",
        "data['Zscoree'] = ze\n",
        "data['Zscoref'] = zf\n",
        "\n",
        "outliers_a=len(data[data['Zscorea']>3])\n",
        "outliers_b=len(data[data['Zscoreb']>3])\n",
        "outliers_c=len(data[data['Zscorec']>3])\n",
        "outliers_d=len(data[data['Zscored']>3])\n",
        "outliers_e=len(data[data['Zscoree']>3])\n",
        "outliers_f=len(data[data['Zscoref']>3])\n",
        "\n",
        "data_z = data[data['Zscorea']<3]\n",
        "data_z = data[data['Zscoreb']<3]\n",
        "data_z = data[data['Zscorec']<3]\n",
        "data_z = data[data['Zscored']<3]\n",
        "data_z = data[data['Zscoree']<3]\n",
        "data_z = data[data['Zscoref']<3]\n",
        "\n",
        "data=data_z.drop(['Zscorea', 'Zscoreb','Zscorec', 'Zscored', 'Zscored', 'Zscoree','Zscoref'], axis=1)\n",
        "data"
      ],
      "execution_count": null,
      "outputs": [
        {
          "output_type": "execute_result",
          "data": {
            "text/html": [
              "<div>\n",
              "<style scoped>\n",
              "    .dataframe tbody tr th:only-of-type {\n",
              "        vertical-align: middle;\n",
              "    }\n",
              "\n",
              "    .dataframe tbody tr th {\n",
              "        vertical-align: top;\n",
              "    }\n",
              "\n",
              "    .dataframe thead th {\n",
              "        text-align: right;\n",
              "    }\n",
              "</style>\n",
              "<table border=\"1\" class=\"dataframe\">\n",
              "  <thead>\n",
              "    <tr style=\"text-align: right;\">\n",
              "      <th></th>\n",
              "      <th>phone</th>\n",
              "      <th>Laptop</th>\n",
              "      <th>TV</th>\n",
              "      <th>Headaches</th>\n",
              "      <th>Blurry vision</th>\n",
              "      <th>Specs</th>\n",
              "    </tr>\n",
              "  </thead>\n",
              "  <tbody>\n",
              "    <tr>\n",
              "      <th>0</th>\n",
              "      <td>6</td>\n",
              "      <td>4</td>\n",
              "      <td>1</td>\n",
              "      <td>0</td>\n",
              "      <td>0</td>\n",
              "      <td>0</td>\n",
              "    </tr>\n",
              "    <tr>\n",
              "      <th>1</th>\n",
              "      <td>9</td>\n",
              "      <td>5</td>\n",
              "      <td>1</td>\n",
              "      <td>1</td>\n",
              "      <td>1</td>\n",
              "      <td>1</td>\n",
              "    </tr>\n",
              "    <tr>\n",
              "      <th>2</th>\n",
              "      <td>6</td>\n",
              "      <td>3</td>\n",
              "      <td>1</td>\n",
              "      <td>0</td>\n",
              "      <td>0</td>\n",
              "      <td>0</td>\n",
              "    </tr>\n",
              "    <tr>\n",
              "      <th>3</th>\n",
              "      <td>10</td>\n",
              "      <td>2</td>\n",
              "      <td>0</td>\n",
              "      <td>1</td>\n",
              "      <td>1</td>\n",
              "      <td>1</td>\n",
              "    </tr>\n",
              "    <tr>\n",
              "      <th>4</th>\n",
              "      <td>10</td>\n",
              "      <td>0</td>\n",
              "      <td>4</td>\n",
              "      <td>0</td>\n",
              "      <td>0</td>\n",
              "      <td>1</td>\n",
              "    </tr>\n",
              "    <tr>\n",
              "      <th>...</th>\n",
              "      <td>...</td>\n",
              "      <td>...</td>\n",
              "      <td>...</td>\n",
              "      <td>...</td>\n",
              "      <td>...</td>\n",
              "      <td>...</td>\n",
              "    </tr>\n",
              "    <tr>\n",
              "      <th>244</th>\n",
              "      <td>3</td>\n",
              "      <td>3</td>\n",
              "      <td>2</td>\n",
              "      <td>1</td>\n",
              "      <td>0</td>\n",
              "      <td>1</td>\n",
              "    </tr>\n",
              "    <tr>\n",
              "      <th>245</th>\n",
              "      <td>6</td>\n",
              "      <td>4</td>\n",
              "      <td>3</td>\n",
              "      <td>0</td>\n",
              "      <td>0</td>\n",
              "      <td>0</td>\n",
              "    </tr>\n",
              "    <tr>\n",
              "      <th>246</th>\n",
              "      <td>5</td>\n",
              "      <td>3</td>\n",
              "      <td>2</td>\n",
              "      <td>0</td>\n",
              "      <td>0</td>\n",
              "      <td>0</td>\n",
              "    </tr>\n",
              "    <tr>\n",
              "      <th>247</th>\n",
              "      <td>5</td>\n",
              "      <td>10</td>\n",
              "      <td>7</td>\n",
              "      <td>0</td>\n",
              "      <td>1</td>\n",
              "      <td>1</td>\n",
              "    </tr>\n",
              "    <tr>\n",
              "      <th>248</th>\n",
              "      <td>1</td>\n",
              "      <td>3</td>\n",
              "      <td>2</td>\n",
              "      <td>0</td>\n",
              "      <td>0</td>\n",
              "      <td>0</td>\n",
              "    </tr>\n",
              "  </tbody>\n",
              "</table>\n",
              "<p>249 rows × 6 columns</p>\n",
              "</div>"
            ],
            "text/plain": [
              "     phone  Laptop  TV  Headaches  Blurry vision  Specs\n",
              "0        6       4   1          0              0      0\n",
              "1        9       5   1          1              1      1\n",
              "2        6       3   1          0              0      0\n",
              "3       10       2   0          1              1      1\n",
              "4       10       0   4          0              0      1\n",
              "..     ...     ...  ..        ...            ...    ...\n",
              "244      3       3   2          1              0      1\n",
              "245      6       4   3          0              0      0\n",
              "246      5       3   2          0              0      0\n",
              "247      5      10   7          0              1      1\n",
              "248      1       3   2          0              0      0\n",
              "\n",
              "[249 rows x 6 columns]"
            ]
          },
          "metadata": {},
          "execution_count": 6
        }
      ]
    },
    {
      "cell_type": "markdown",
      "metadata": {
        "id": "EGeno6wH6DA5"
      },
      "source": [
        "# Missing Values Detection and Treatment"
      ]
    },
    {
      "cell_type": "code",
      "metadata": {
        "colab": {
          "base_uri": "https://localhost:8080/"
        },
        "id": "12EjJQLjzUOA",
        "outputId": "2992d3e5-bf19-4dc7-eedd-2a26acd71f33"
      },
      "source": [
        "print(data.isnull().sum())"
      ],
      "execution_count": null,
      "outputs": [
        {
          "output_type": "stream",
          "name": "stdout",
          "text": [
            "phone            0\n",
            "Laptop           0\n",
            "TV               0\n",
            "Headaches        0\n",
            "Blurry vision    0\n",
            "Specs            0\n",
            "dtype: int64\n"
          ]
        }
      ]
    },
    {
      "cell_type": "code",
      "metadata": {
        "colab": {
          "base_uri": "https://localhost:8080/",
          "height": 424
        },
        "id": "PyI4seyYzYf5",
        "outputId": "594f8718-b805-4abc-eab6-13142291c952"
      },
      "source": [
        "m1=data['phone'].mean()\n",
        "m2=data['Laptop'].mean()\n",
        "m3=data['TV'].mean()\n",
        "m4=data['Headaches'].mean()\n",
        "m5=data['Blurry vision'].mean()\n",
        "m6=data['Specs'].mean()\n",
        "\n",
        "data['phone'].fillna(value=m1, inplace=True)\n",
        "data['Laptop'].fillna(value=m2, inplace=True)\n",
        "data['TV'].fillna(value=m3, inplace=True)\n",
        "data['Headaches'].fillna(value=m4, inplace=True)\n",
        "data['Blurry vision'].fillna(value=m5, inplace=True)\n",
        "data['Specs'].fillna(value=m6, inplace=True)\n",
        "\n",
        "data"
      ],
      "execution_count": null,
      "outputs": [
        {
          "output_type": "execute_result",
          "data": {
            "text/html": [
              "<div>\n",
              "<style scoped>\n",
              "    .dataframe tbody tr th:only-of-type {\n",
              "        vertical-align: middle;\n",
              "    }\n",
              "\n",
              "    .dataframe tbody tr th {\n",
              "        vertical-align: top;\n",
              "    }\n",
              "\n",
              "    .dataframe thead th {\n",
              "        text-align: right;\n",
              "    }\n",
              "</style>\n",
              "<table border=\"1\" class=\"dataframe\">\n",
              "  <thead>\n",
              "    <tr style=\"text-align: right;\">\n",
              "      <th></th>\n",
              "      <th>phone</th>\n",
              "      <th>Laptop</th>\n",
              "      <th>TV</th>\n",
              "      <th>Headaches</th>\n",
              "      <th>Blurry vision</th>\n",
              "      <th>Specs</th>\n",
              "    </tr>\n",
              "  </thead>\n",
              "  <tbody>\n",
              "    <tr>\n",
              "      <th>0</th>\n",
              "      <td>6</td>\n",
              "      <td>4</td>\n",
              "      <td>1</td>\n",
              "      <td>0</td>\n",
              "      <td>0</td>\n",
              "      <td>0</td>\n",
              "    </tr>\n",
              "    <tr>\n",
              "      <th>1</th>\n",
              "      <td>9</td>\n",
              "      <td>5</td>\n",
              "      <td>1</td>\n",
              "      <td>1</td>\n",
              "      <td>1</td>\n",
              "      <td>1</td>\n",
              "    </tr>\n",
              "    <tr>\n",
              "      <th>2</th>\n",
              "      <td>6</td>\n",
              "      <td>3</td>\n",
              "      <td>1</td>\n",
              "      <td>0</td>\n",
              "      <td>0</td>\n",
              "      <td>0</td>\n",
              "    </tr>\n",
              "    <tr>\n",
              "      <th>3</th>\n",
              "      <td>10</td>\n",
              "      <td>2</td>\n",
              "      <td>0</td>\n",
              "      <td>1</td>\n",
              "      <td>1</td>\n",
              "      <td>1</td>\n",
              "    </tr>\n",
              "    <tr>\n",
              "      <th>4</th>\n",
              "      <td>10</td>\n",
              "      <td>0</td>\n",
              "      <td>4</td>\n",
              "      <td>0</td>\n",
              "      <td>0</td>\n",
              "      <td>1</td>\n",
              "    </tr>\n",
              "    <tr>\n",
              "      <th>...</th>\n",
              "      <td>...</td>\n",
              "      <td>...</td>\n",
              "      <td>...</td>\n",
              "      <td>...</td>\n",
              "      <td>...</td>\n",
              "      <td>...</td>\n",
              "    </tr>\n",
              "    <tr>\n",
              "      <th>244</th>\n",
              "      <td>3</td>\n",
              "      <td>3</td>\n",
              "      <td>2</td>\n",
              "      <td>1</td>\n",
              "      <td>0</td>\n",
              "      <td>1</td>\n",
              "    </tr>\n",
              "    <tr>\n",
              "      <th>245</th>\n",
              "      <td>6</td>\n",
              "      <td>4</td>\n",
              "      <td>3</td>\n",
              "      <td>0</td>\n",
              "      <td>0</td>\n",
              "      <td>0</td>\n",
              "    </tr>\n",
              "    <tr>\n",
              "      <th>246</th>\n",
              "      <td>5</td>\n",
              "      <td>3</td>\n",
              "      <td>2</td>\n",
              "      <td>0</td>\n",
              "      <td>0</td>\n",
              "      <td>0</td>\n",
              "    </tr>\n",
              "    <tr>\n",
              "      <th>247</th>\n",
              "      <td>5</td>\n",
              "      <td>10</td>\n",
              "      <td>7</td>\n",
              "      <td>0</td>\n",
              "      <td>1</td>\n",
              "      <td>1</td>\n",
              "    </tr>\n",
              "    <tr>\n",
              "      <th>248</th>\n",
              "      <td>1</td>\n",
              "      <td>3</td>\n",
              "      <td>2</td>\n",
              "      <td>0</td>\n",
              "      <td>0</td>\n",
              "      <td>0</td>\n",
              "    </tr>\n",
              "  </tbody>\n",
              "</table>\n",
              "<p>249 rows × 6 columns</p>\n",
              "</div>"
            ],
            "text/plain": [
              "     phone  Laptop  TV  Headaches  Blurry vision  Specs\n",
              "0        6       4   1          0              0      0\n",
              "1        9       5   1          1              1      1\n",
              "2        6       3   1          0              0      0\n",
              "3       10       2   0          1              1      1\n",
              "4       10       0   4          0              0      1\n",
              "..     ...     ...  ..        ...            ...    ...\n",
              "244      3       3   2          1              0      1\n",
              "245      6       4   3          0              0      0\n",
              "246      5       3   2          0              0      0\n",
              "247      5      10   7          0              1      1\n",
              "248      1       3   2          0              0      0\n",
              "\n",
              "[249 rows x 6 columns]"
            ]
          },
          "metadata": {},
          "execution_count": 8
        }
      ]
    },
    {
      "cell_type": "markdown",
      "metadata": {
        "id": "Uhm_M5Lhwmp-"
      },
      "source": [
        "# Correlation matrix"
      ]
    },
    {
      "cell_type": "code",
      "metadata": {
        "id": "Jp_4L2upwvfI",
        "colab": {
          "base_uri": "https://localhost:8080/",
          "height": 492
        },
        "outputId": "483347a7-c8dd-4590-df38-789ebcb5b5b7"
      },
      "source": [
        "import matplotlib.pyplot as plt\n",
        "import seaborn as sns\n",
        "corr = data.corr()\n",
        "plt.figure(figsize=(20,10))\n",
        "sns.heatmap(corr, annot=True, cmap='coolwarm')"
      ],
      "execution_count": null,
      "outputs": [
        {
          "output_type": "execute_result",
          "data": {
            "text/plain": [
              "<matplotlib.axes._subplots.AxesSubplot at 0x7fc206957190>"
            ]
          },
          "metadata": {},
          "execution_count": 14
        },
        {
          "output_type": "display_data",
          "data": {
            "image/png": "[encoded data removed]",
            "text/plain": [
              "<Figure size 1440x720 with 2 Axes>"
            ]
          },
          "metadata": {
            "needs_background": "light"
          }
        }
      ]
    },
    {
      "cell_type": "markdown",
      "metadata": {
        "id": "BVdpA-Hr6IpB"
      },
      "source": [
        "# Data Split"
      ]
    },
    {
      "cell_type": "code",
      "metadata": {
        "colab": {
          "base_uri": "https://localhost:8080/"
        },
        "id": "fk79FylPzq5w",
        "outputId": "a674f73e-8688-4792-d895-9cd8b9cffa73"
      },
      "source": [
        "from sklearn.model_selection import train_test_split\n",
        "dataframe = data.values\n",
        "X, y = dataframe[:, :-1], dataframe[:, -1]\n",
        "x_train, x_test, y_train, y_test = train_test_split(X, y, test_size = 0.20, random_state = 10)\n",
        "x_train"
      ],
      "execution_count": null,
      "outputs": [
        {
          "data": {
            "text/plain": [
              "array([[ 7,  7,  0,  0,  1],\n",
              "       [10,  4,  4,  0,  1],\n",
              "       [ 3,  1,  3,  0,  0],\n",
              "       [ 4,  3,  6,  0,  1],\n",
              "       [ 2,  2,  1,  0,  0],\n",
              "       [ 1,  3,  2,  0,  0],\n",
              "       [ 3,  6,  2,  1,  1],\n",
              "       [ 4,  3,  1,  0,  0],\n",
              "       [ 7,  2,  2,  1,  1],\n",
              "       [ 0,  0,  3,  0,  1],\n",
              "       [ 9,  3,  1,  1,  0],\n",
              "       [ 9,  7,  2,  1,  1],\n",
              "       [ 3,  3,  2,  0,  0],\n",
              "       [ 4,  3,  1,  0,  0],\n",
              "       [ 3,  1,  1,  0,  0],\n",
              "       [ 7,  4,  4,  1,  1],\n",
              "       [ 6,  3,  1,  0,  0],\n",
              "       [ 6,  4,  1,  1,  1],\n",
              "       [ 6,  2,  3,  0,  0],\n",
              "       [ 6,  4,  7,  1,  1],\n",
              "       [ 4,  1,  4,  1,  1],\n",
              "       [ 4,  2,  5,  1,  1],\n",
              "       [ 8,  7,  1,  0,  1],\n",
              "       [ 7,  5,  2,  1,  1],\n",
              "       [ 4,  1,  0,  0,  0],\n",
              "       [ 4,  5,  1,  1,  1],\n",
              "       [ 6,  3,  1,  1,  1],\n",
              "       [ 1,  3,  2,  0,  0],\n",
              "       [ 5,  0,  6,  0,  0],\n",
              "       [ 6,  3,  1,  0,  0],\n",
              "       [ 4,  1,  2,  0,  0],\n",
              "       [ 8,  0,  3,  0,  0],\n",
              "       [ 5,  3,  1,  1,  0],\n",
              "       [ 8,  4,  1,  0,  1],\n",
              "       [ 2,  4,  1,  0,  0],\n",
              "       [ 4,  1,  1,  0,  0],\n",
              "       [ 4,  2,  9,  0,  0],\n",
              "       [ 2,  1,  1,  0,  0],\n",
              "       [ 9,  3,  0,  1,  0],\n",
              "       [ 5,  1,  2,  0,  0],\n",
              "       [ 8,  1,  8,  1,  0],\n",
              "       [ 1,  5,  2,  0,  0],\n",
              "       [ 6,  7,  4,  1,  1],\n",
              "       [ 3,  5,  1,  0,  0],\n",
              "       [ 3,  2,  4,  1,  0],\n",
              "       [ 4,  5,  5,  1,  1],\n",
              "       [ 3,  2,  1,  0,  1],\n",
              "       [ 5, 10,  7,  0,  1],\n",
              "       [ 6,  0,  0,  0,  0],\n",
              "       [ 3,  1,  2,  0,  0],\n",
              "       [ 3,  3,  1,  1,  1],\n",
              "       [ 4,  1,  1,  0,  0],\n",
              "       [ 2,  2,  2,  0,  0],\n",
              "       [ 9,  2,  3,  1,  1],\n",
              "       [ 4,  2,  1,  0,  0],\n",
              "       [ 3,  1,  4,  0,  0],\n",
              "       [ 7,  1,  6,  1,  1],\n",
              "       [ 6,  1,  1,  1,  1],\n",
              "       [ 3,  2,  3,  0,  0],\n",
              "       [ 5,  0,  0,  1,  1],\n",
              "       [ 5,  9,  2,  1,  1],\n",
              "       [ 1,  2,  5,  0,  0],\n",
              "       [ 9,  7,  3,  0,  0],\n",
              "       [ 4,  7,  2,  1,  0],\n",
              "       [ 2,  3,  2,  0,  0],\n",
              "       [ 7,  3,  1,  0,  1],\n",
              "       [ 2,  0,  1,  0,  0],\n",
              "       [ 4,  5,  6,  1,  1],\n",
              "       [ 3,  6,  0,  0,  0],\n",
              "       [ 4,  2,  1,  0,  0],\n",
              "       [ 6,  6,  4,  1,  1],\n",
              "       [ 2,  1,  2,  0,  0],\n",
              "       [ 6,  4,  5,  0,  0],\n",
              "       [ 6,  2,  1,  0,  0],\n",
              "       [ 3,  3,  2,  1,  0],\n",
              "       [ 3, 10,  2,  0,  1],\n",
              "       [ 4,  3,  0,  0,  1],\n",
              "       [ 4,  8,  5,  1,  1],\n",
              "       [ 6,  3,  3,  1,  1],\n",
              "       [ 9,  2,  3,  1,  1],\n",
              "       [ 6,  3,  7,  1,  1],\n",
              "       [10,  6,  7,  0,  0],\n",
              "       [ 7,  6,  6,  0,  1],\n",
              "       [ 8,  0,  2,  1,  0],\n",
              "       [ 6,  7,  1,  1,  0],\n",
              "       [ 7,  3,  1,  0,  0],\n",
              "       [ 8,  0,  3,  0,  0],\n",
              "       [ 5,  2,  3,  1,  1],\n",
              "       [ 4,  5,  6,  1,  1],\n",
              "       [ 7,  0,  1,  1,  1],\n",
              "       [10,  4,  1,  0,  1],\n",
              "       [ 4,  2,  1,  0,  0],\n",
              "       [ 4,  0,  2,  0,  0],\n",
              "       [ 4,  1,  1,  1,  1],\n",
              "       [ 4,  7,  2,  0,  1],\n",
              "       [ 9,  0,  1,  1,  1],\n",
              "       [10,  2,  0,  1,  1],\n",
              "       [ 8,  4,  5,  1,  1],\n",
              "       [ 5,  4,  2,  1,  1],\n",
              "       [ 5,  2,  1,  0,  0],\n",
              "       [ 2,  0,  4,  0,  0],\n",
              "       [ 3,  1,  1,  0,  0],\n",
              "       [ 8,  1,  3,  1,  1],\n",
              "       [ 2,  2,  3,  0,  0],\n",
              "       [ 2,  1,  1,  0,  0],\n",
              "       [ 4,  1,  1,  0,  0],\n",
              "       [ 8,  0,  2,  1,  0],\n",
              "       [ 4,  4,  6,  1,  1],\n",
              "       [ 3,  1,  1,  0,  1],\n",
              "       [ 3,  0,  1,  0,  1],\n",
              "       [ 3,  2,  1,  1,  0],\n",
              "       [ 3,  0,  3,  0,  0],\n",
              "       [ 9,  1,  0,  0,  0],\n",
              "       [ 8,  3,  2,  1,  1],\n",
              "       [ 5,  5,  2,  0,  1],\n",
              "       [ 3,  2,  1,  0,  0],\n",
              "       [ 3,  3,  2,  0,  0],\n",
              "       [ 7,  3,  0,  1,  1],\n",
              "       [ 4,  0,  1,  0,  0],\n",
              "       [ 6,  3,  0,  0,  1],\n",
              "       [ 2,  5,  1,  1,  1],\n",
              "       [ 5,  1,  1,  0,  0],\n",
              "       [ 3,  2,  3,  0,  0],\n",
              "       [ 2,  1,  1,  0,  0],\n",
              "       [10,  0,  4,  0,  0],\n",
              "       [ 9,  5,  1,  0,  0],\n",
              "       [ 3,  0,  5,  0,  1],\n",
              "       [ 4,  2,  2,  0,  1],\n",
              "       [ 4,  7,  2,  1,  1],\n",
              "       [ 1,  1,  1,  0,  0],\n",
              "       [ 2,  1,  1,  0,  0],\n",
              "       [ 2,  3,  1,  0,  0],\n",
              "       [ 7,  4,  3,  1,  1],\n",
              "       [ 4,  8,  4,  1,  1],\n",
              "       [ 5,  5,  6,  1,  1],\n",
              "       [ 3,  4,  1,  0,  1],\n",
              "       [ 7,  2,  1,  0,  0],\n",
              "       [ 4,  2,  3,  1,  1],\n",
              "       [ 6,  4,  3,  0,  0],\n",
              "       [ 9,  5,  2,  1,  1],\n",
              "       [ 9,  0,  2,  0,  0],\n",
              "       [ 3,  4,  5,  1,  1],\n",
              "       [ 5,  3,  2,  0,  0],\n",
              "       [ 9,  0,  2,  0,  1],\n",
              "       [ 4,  1,  1,  0,  0],\n",
              "       [ 7,  5,  2,  0,  1],\n",
              "       [ 4,  2,  1,  0,  0],\n",
              "       [ 9,  4,  3,  0,  0],\n",
              "       [ 6,  1,  2,  0,  1],\n",
              "       [12,  3,  3,  1,  1],\n",
              "       [ 4,  2,  2,  1,  0],\n",
              "       [ 5,  3,  1,  0,  0],\n",
              "       [ 5,  1,  0,  0,  0],\n",
              "       [ 8,  1,  1,  0,  0],\n",
              "       [ 3,  2,  1,  0,  0],\n",
              "       [ 6,  1,  4,  0,  0],\n",
              "       [ 4,  3,  1,  0,  0],\n",
              "       [ 6,  7,  0,  0,  0],\n",
              "       [ 5,  1,  2,  1,  1],\n",
              "       [ 9,  6,  5,  0,  1],\n",
              "       [ 7,  3,  2,  0,  1],\n",
              "       [ 7,  4,  2,  0,  1],\n",
              "       [ 4,  4,  3,  1,  1],\n",
              "       [ 9,  6,  1,  1,  1],\n",
              "       [ 3,  1,  2,  0,  0],\n",
              "       [ 7,  0,  8,  0,  1],\n",
              "       [ 7,  8,  6,  1,  1],\n",
              "       [ 5,  4,  7,  1,  1],\n",
              "       [10,  2,  2,  1,  1],\n",
              "       [ 6,  8,  4,  1,  1],\n",
              "       [ 4,  6,  2,  1,  1],\n",
              "       [ 3,  4,  1,  0,  0],\n",
              "       [10,  2,  3,  1,  1],\n",
              "       [ 8, 10,  2,  0,  1],\n",
              "       [ 3,  1,  2,  0,  1],\n",
              "       [ 5,  2,  0,  1,  0],\n",
              "       [10,  4,  2,  1,  1],\n",
              "       [ 7,  3,  0,  0,  0],\n",
              "       [ 8,  6,  3,  1,  1],\n",
              "       [ 8,  1,  2,  1,  1],\n",
              "       [ 4,  2,  1,  0,  1],\n",
              "       [ 5,  1,  2,  0,  1],\n",
              "       [ 1,  1,  1,  0,  0],\n",
              "       [ 6,  1,  1,  0,  1],\n",
              "       [ 6,  4,  1,  0,  0],\n",
              "       [ 6,  2,  0,  1,  1],\n",
              "       [12,  2,  3,  0,  0],\n",
              "       [ 5,  7,  8,  1,  1],\n",
              "       [ 2,  1,  1,  0,  0],\n",
              "       [ 5,  8,  7,  1,  1],\n",
              "       [ 2,  0,  4,  0,  0],\n",
              "       [ 8,  5,  1,  0,  0],\n",
              "       [10,  3,  0,  0,  1],\n",
              "       [ 6,  4,  4,  1,  0],\n",
              "       [ 8,  5,  0,  0,  1],\n",
              "       [ 9,  0,  1,  0,  0],\n",
              "       [ 7,  8,  3,  1,  1],\n",
              "       [ 3,  1,  1,  1,  1],\n",
              "       [ 4,  1,  3,  1,  1]])"
            ]
          },
          "execution_count": 9,
          "metadata": {},
          "output_type": "execute_result"
        }
      ]
    },
    {
      "cell_type": "markdown",
      "metadata": {
        "id": "0sqH7Shc6LRi"
      },
      "source": [
        "#Initialization"
      ]
    },
    {
      "cell_type": "code",
      "metadata": {
        "id": "qwFfsoACzwZQ"
      },
      "source": [
        "w1=random.uniform(-10,10)\n",
        "w2=random.uniform(-10,10)\n",
        "w3=random.uniform(-10,10)\n",
        "w4=random.uniform(-10,10)\n",
        "w5=random.uniform(-10,10)\n",
        "bias=random.uniform(-10,10)\n",
        "eta=0.01\n",
        "max_iter=100000"
      ],
      "execution_count": null,
      "outputs": []
    },
    {
      "cell_type": "markdown",
      "metadata": {
        "id": "B5pWl3de6Or6"
      },
      "source": [
        "# Model Training Using Stochastic Gradient Descent Algorithm"
      ]
    },
    {
      "cell_type": "code",
      "metadata": {
        "colab": {
          "background_save": true
        },
        "id": "_vuluHsE0CSZ",
        "outputId": "4bf9e10e-934d-4c32-f5ab-2f1d07eed36f"
      },
      "source": [
        "for iter in range(max_iter):\n",
        "  for sample in range(x_train.shape[0]):\n",
        "    net=w1*x_train[sample,0]+w2*x_train[sample,1]+w3*x_train[sample,2]+w4*x_train[sample,3]+w5*x_train[sample,4]+bias\n",
        "    p=1/(1+mt.exp(-net))\n",
        "    w1=w1-eta*x_train[sample,0]*(p-y_train[sample])\n",
        "    w2=w2-eta*x_train[sample,1]*(p-y_train[sample])\n",
        "    w3=w3-eta*x_train[sample,2]*(p-y_train[sample])\n",
        "    w4=w4-eta*x_train[sample,3]*(p-y_train[sample])\n",
        "    w5=w5-eta*x_train[sample,4]*(p-y_train[sample])\n",
        "    bias=bias-eta*(p-y_train[sample])\n",
        "print(f'Model parameters:\\n w1= ',w1, '\\nw2 = ',w2, '\\nw3 = ',w3, '\\nw4 = ',w4, '\\nw5 = ',w5, '\\nBias = ',bias)"
      ],
      "execution_count": null,
      "outputs": [
        {
          "name": "stdout",
          "output_type": "stream",
          "text": [
            "Model parameters:\n",
            " w1=  0.12667459184066146 \n",
            "w2 =  0.0673760659919008 \n",
            "w3 =  0.06568336929948261 \n",
            "w4 =  0.6183046262480916 \n",
            "w5 =  4.881519375720704 \n",
            "Bias =  -3.824650876516356\n"
          ]
        }
      ]
    },
    {
      "cell_type": "markdown",
      "metadata": {
        "id": "2qcxELZK6V3D"
      },
      "source": [
        "# Prediction on training data"
      ]
    },
    {
      "cell_type": "code",
      "metadata": {
        "colab": {
          "background_save": true
        },
        "id": "FOOx84uY3Iwh"
      },
      "source": [
        "y_pred_train = []\n",
        "for sample in range(x_train.shape[0]):\n",
        "  x1=x_train[sample,0]\n",
        "  x2=x_train[sample,1]\n",
        "  x3=x_train[sample,2]\n",
        "  x4=x_train[sample,3]\n",
        "  x5=x_train[sample,4]\n",
        "  y=y_train[sample]\n",
        "  net=w1*x_train[sample,0]+w2*x_train[sample,1]+w3*x_train[sample,2]+w4*x_train[sample,3]+w5*x_train[sample,4]+bias\n",
        "  y_p_tr = np.round(1/(1+mt.exp(-net)))\n",
        "  y_pred_train.append(y_p_tr)\n",
        "y_pred_train = np.array(y_pred_train)"
      ],
      "execution_count": null,
      "outputs": []
    },
    {
      "cell_type": "code",
      "metadata": {
        "colab": {
          "base_uri": "https://localhost:8080/"
        },
        "id": "UJrtP59be1Ji",
        "outputId": "9515a1b8-c689-44e3-de06-2ccbace5e3b5"
      },
      "source": [
        "y_pred_train"
      ],
      "execution_count": null,
      "outputs": [
        {
          "data": {
            "text/plain": [
              "array([1., 1., 0., 1., 0., 0., 1., 0., 1., 1., 0., 1., 0., 0., 0., 1., 0.,\n",
              "       1., 0., 1., 1., 1., 1., 1., 0., 1., 1., 0., 0., 0., 0., 0., 0., 1.,\n",
              "       0., 0., 0., 0., 0., 0., 0., 0., 1., 0., 0., 1., 1., 1., 0., 0., 1.,\n",
              "       0., 0., 1., 0., 0., 1., 1., 0., 1., 1., 0., 0., 0., 0., 1., 0., 1.,\n",
              "       0., 0., 1., 0., 0., 0., 0., 1., 1., 1., 1., 1., 1., 0., 1., 0., 0.,\n",
              "       0., 0., 1., 1., 1., 1., 0., 0., 1., 1., 1., 1., 1., 1., 0., 0., 0.,\n",
              "       1., 0., 0., 0., 0., 1., 1., 1., 0., 0., 0., 1., 1., 0., 0., 1., 0.,\n",
              "       1., 1., 0., 0., 0., 0., 0., 1., 1., 1., 0., 0., 0., 1., 1., 1., 1.,\n",
              "       0., 1., 0., 1., 0., 1., 0., 1., 0., 1., 0., 0., 1., 1., 0., 0., 0.,\n",
              "       0., 0., 0., 0., 0., 1., 1., 1., 1., 1., 1., 0., 1., 1., 1., 1., 1.,\n",
              "       1., 0., 1., 1., 1., 0., 1., 0., 1., 1., 1., 1., 0., 1., 0., 1., 0.,\n",
              "       1., 0., 1., 0., 0., 1., 0., 1., 0., 1., 1., 1.])"
            ]
          },
          "execution_count": 22,
          "metadata": {},
          "output_type": "execute_result"
        }
      ]
    },
    {
      "cell_type": "markdown",
      "metadata": {
        "id": "sfEe8LHZ6ZAC"
      },
      "source": [
        "# Prediction on testing data"
      ]
    },
    {
      "cell_type": "code",
      "metadata": {
        "colab": {
          "base_uri": "https://localhost:8080/"
        },
        "id": "IZTM6p3ne305",
        "outputId": "d5f83668-6b20-4e82-8f47-8965709e5a37"
      },
      "source": [
        "y_train"
      ],
      "execution_count": null,
      "outputs": [
        {
          "data": {
            "text/plain": [
              "array([1, 1, 0, 1, 0, 0, 1, 0, 1, 1, 1, 1, 0, 0, 0, 1, 0, 1, 0, 1, 1, 1,\n",
              "       1, 1, 1, 1, 1, 0, 0, 0, 0, 1, 0, 1, 0, 0, 0, 0, 1, 0, 0, 0, 1, 0,\n",
              "       1, 1, 1, 1, 0, 0, 1, 0, 0, 1, 0, 0, 1, 1, 0, 1, 1, 0, 0, 0, 0, 1,\n",
              "       0, 1, 1, 0, 1, 0, 0, 0, 1, 1, 1, 1, 1, 1, 1, 1, 1, 0, 0, 1, 0, 0,\n",
              "       1, 0, 1, 0, 0, 1, 1, 1, 1, 1, 1, 0, 0, 0, 1, 0, 0, 0, 0, 1, 1, 1,\n",
              "       0, 0, 0, 1, 1, 0, 0, 1, 0, 1, 0, 0, 0, 0, 1, 0, 1, 1, 1, 0, 0, 0,\n",
              "       1, 1, 1, 1, 0, 1, 0, 1, 0, 1, 0, 1, 0, 1, 0, 0, 1, 1, 0, 0, 0, 0,\n",
              "       0, 0, 0, 0, 1, 1, 1, 1, 1, 0, 0, 1, 1, 1, 1, 1, 1, 0, 1, 1, 1, 1,\n",
              "       1, 0, 1, 1, 1, 1, 0, 0, 0, 1, 0, 1, 0, 1, 0, 0, 1, 0, 1, 0, 1, 1,\n",
              "       1])"
            ]
          },
          "execution_count": 14,
          "metadata": {},
          "output_type": "execute_result"
        }
      ]
    },
    {
      "cell_type": "code",
      "metadata": {
        "id": "rOHRFU2M3vBZ"
      },
      "source": [
        "y_pred_test = []\n",
        "for sample in range(x_test.shape[0]):\n",
        "  x1=x_test[sample,0]\n",
        "  x2=x_test[sample,1]\n",
        "  x3=x_test[sample,2]\n",
        "  x4=x_test[sample,3]\n",
        "  x5=x_test[sample,4]\n",
        "  y=y_test[sample]\n",
        "  net=w1*x_test[sample,0]+w2*x_test[sample,1]+w3*x_test[sample,2]+w4*x_test[sample,3]+w5*x_test[sample,4]+bias\n",
        "  y_p_te = np.round(1/(1+mt.exp(-net)))\n",
        "  y_pred_test.append(y_p_te)\n",
        "y_pred_test = np.array(y_pred_test)"
      ],
      "execution_count": null,
      "outputs": []
    },
    {
      "cell_type": "markdown",
      "metadata": {
        "id": "udAs_8US6cvR"
      },
      "source": [
        "# Accuracy of the model"
      ]
    },
    {
      "cell_type": "code",
      "metadata": {
        "colab": {
          "base_uri": "https://localhost:8080/"
        },
        "id": "S8Q3ddPM4GiA",
        "outputId": "7a0dc92b-f99f-4262-de32-385ae572dc80"
      },
      "source": [
        "from sklearn.metrics import accuracy_score\n",
        "train_accuracy=accuracy_score(y_train, y_pred_train)\n",
        "train_accuracy"
      ],
      "execution_count": null,
      "outputs": [
        {
          "data": {
            "text/plain": [
              "0.9195979899497487"
            ]
          },
          "execution_count": 16,
          "metadata": {},
          "output_type": "execute_result"
        }
      ]
    },
    {
      "cell_type": "code",
      "metadata": {
        "colab": {
          "base_uri": "https://localhost:8080/"
        },
        "id": "nK_botYL4pHY",
        "outputId": "f1eeacab-f13c-44ac-cb4a-8db6f23fcb2a"
      },
      "source": [
        "test_accuracy=accuracy_score(y_test, y_pred_test)\n",
        "test_accuracy"
      ],
      "execution_count": null,
      "outputs": [
        {
          "data": {
            "text/plain": [
              "0.96"
            ]
          },
          "execution_count": 17,
          "metadata": {},
          "output_type": "execute_result"
        }
      ]
    },
    {
      "cell_type": "markdown",
      "metadata": {
        "id": "aDYa9gm16jl6"
      },
      "source": [
        "#Confusion Matrix"
      ]
    },
    {
      "cell_type": "code",
      "metadata": {
        "colab": {
          "base_uri": "https://localhost:8080/"
        },
        "id": "9MJ0Kmuj4tXH",
        "outputId": "bc644ae2-3044-4a84-e886-8235d82c325b"
      },
      "source": [
        "from sklearn.metrics import confusion_matrix\n",
        "confusion_matrix(y_test, y_pred_test)"
      ],
      "execution_count": null,
      "outputs": [
        {
          "data": {
            "text/plain": [
              "array([[21,  0],\n",
              "       [ 2, 27]])"
            ]
          },
          "execution_count": 18,
          "metadata": {},
          "output_type": "execute_result"
        }
      ]
    },
    {
      "cell_type": "markdown",
      "metadata": {
        "id": "sEC2_F6i6wpK"
      },
      "source": [
        "#Deployment"
      ]
    },
    {
      "cell_type": "code",
      "metadata": {
        "colab": {
          "base_uri": "https://localhost:8080/"
        },
        "id": "jAIi4C486yZJ",
        "outputId": "f51670c6-a72b-4353-b340-80fc0e6c4359"
      },
      "source": [
        "print('\\nEnter the number of hours you spend on following gadgets each day:\\n')\n",
        "a=input('Phone ')\n",
        "b=input('Laptop/Computer ')\n",
        "c=input('TV ')\n",
        "d=input('Do you have frequent headaches? (Yes/No)')\n",
        "d=d.lower()\n",
        "if(d=='yes'):\n",
        "  f=1\n",
        "else:\n",
        "  f=0\n",
        "e=input('Do you have a blurry vision?')\n",
        "e=e.lower()\n",
        "if(e=='yes'):\n",
        "  g=1\n",
        "else:\n",
        "  g=0\n",
        "Y=w1*float(a)+w2*float(b)+w3*float(c)+w4*float(f)+w5*float(g)+bias\n",
        "p=np.round(1/(1+mt.exp(-Y)))\n",
        "if(p==1):\n",
        "  print('Prediction: You need spectacles')\n",
        "if(p==0):\n",
        "  print(\"Prediction: You don't need spectacles\")\n"
      ],
      "execution_count": null,
      "outputs": [
        {
          "name": "stdout",
          "output_type": "stream",
          "text": [
            "\n",
            "Enter the number of hours you spend on following gadgets each day:\n",
            "\n",
            "Phone 1\n",
            "Laptop/Computer 2\n",
            "TV 1\n",
            "Do you have frequent headaches? (Yes/No)no\n",
            "Do you have a blurry vision?yes\n",
            "Prediction: You need spectacles\n"
          ]
        }
      ]
    },
    {
      "cell_type": "markdown",
      "metadata": {
        "id": "cAjB8Rq85kFh"
      },
      "source": [
        "## Thank you"
      ]
    }
  ]
}